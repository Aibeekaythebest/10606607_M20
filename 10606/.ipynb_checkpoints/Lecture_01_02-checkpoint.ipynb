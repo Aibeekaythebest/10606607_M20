{
 "cells": [
  {
   "cell_type": "markdown",
   "metadata": {
    "slideshow": {
     "slide_type": "slide"
    }
   },
   "source": [
    "# Sets\n"
   ]
  },
  {
   "cell_type": "code",
   "execution_count": 36,
   "metadata": {
    "collapsed": false
   },
   "outputs": [
    {
     "data": {
      "text/plain": [
       "{4, 9}"
      ]
     },
     "execution_count": 36,
     "metadata": {},
     "output_type": "execute_result"
    }
   ],
   "source": [
    "{x**2 for x in range(4) if x>1}"
   ]
  },
  {
   "cell_type": "markdown",
   "metadata": {},
   "source": [
    "Write a set builder that find elements of $\\mathbb{N}$ smaller 50 than not divisible by 2,3 or 5:"
   ]
  },
  {
   "cell_type": "code",
   "execution_count": 35,
   "metadata": {
    "collapsed": false
   },
   "outputs": [
    {
     "data": {
      "text/plain": [
       "False"
      ]
     },
     "execution_count": 35,
     "metadata": {},
     "output_type": "execute_result"
    }
   ],
   "source": [
    "672637%3==0"
   ]
  },
  {
   "cell_type": "code",
   "execution_count": 41,
   "metadata": {
    "collapsed": false
   },
   "outputs": [
    {
     "data": {
      "text/plain": [
       "True"
      ]
     },
     "execution_count": 41,
     "metadata": {},
     "output_type": "execute_result"
    }
   ],
   "source": [
    "x = 7\n",
    "\n",
    "(x%2!=0) and (x%3!=0) and (x%5!=0)"
   ]
  },
  {
   "cell_type": "code",
   "execution_count": 45,
   "metadata": {
    "collapsed": false
   },
   "outputs": [
    {
     "data": {
      "text/plain": [
       "{1, 7, 11, 13, 17, 19, 23, 29, 31, 37, 41, 43, 47, 49}"
      ]
     },
     "execution_count": 45,
     "metadata": {},
     "output_type": "execute_result"
    }
   ],
   "source": [
    "{x for x in range(50) if (x%2!=0) and (x%3!=0) and (x%5!=0)}"
   ]
  },
  {
   "cell_type": "code",
   "execution_count": 46,
   "metadata": {
    "collapsed": true,
    "slideshow": {
     "slide_type": "slide"
    }
   },
   "outputs": [],
   "source": [
    "def not_divisible_235(numbers):\n",
    "    subset = {x for x in numbers if (x%2!=0) and (x%3!=0) and (x%5!=0)}\n",
    "    return subset"
   ]
  },
  {
   "cell_type": "code",
   "execution_count": 48,
   "metadata": {
    "collapsed": false
   },
   "outputs": [
    {
     "data": {
      "text/plain": [
       "{7, 89, 3457, 43574389}"
      ]
     },
     "execution_count": 48,
     "metadata": {},
     "output_type": "execute_result"
    }
   ],
   "source": [
    "not_divisible_235({43574389, 3457, 2,7,89})"
   ]
  },
  {
   "cell_type": "markdown",
   "metadata": {},
   "source": [
    "Set complement"
   ]
  },
  {
   "cell_type": "code",
   "execution_count": 65,
   "metadata": {
    "collapsed": true
   },
   "outputs": [],
   "source": [
    "U = range(50)\n",
    "S = {x*2 for x in range(25)}\n",
    "\n",
    "S_bar = {x for x in U if not (x in S)}"
   ]
  },
  {
   "cell_type": "code",
   "execution_count": 67,
   "metadata": {
    "collapsed": false
   },
   "outputs": [
    {
     "name": "stdout",
     "output_type": "stream",
     "text": [
      "{1, 3, 5, 7, 9, 11, 13, 15, 17, 19, 21, 23, 25, 27, 29, 31, 33, 35, 37, 39, 41, 43, 45, 47, 49}\n"
     ]
    }
   ],
   "source": [
    "print(S_bar)"
   ]
  },
  {
   "cell_type": "markdown",
   "metadata": {
    "slideshow": {
     "slide_type": "slide"
    }
   },
   "source": [
    "# Lecture 2\n",
    "\n",
    "## Data types and functions\n",
    "\n",
    "Based on: [Geoff Gordon's data types lecture notes](https://qna.cs.cmu.edu/#/pages/view/145)\n",
    "\n",
    "### Data types\n",
    "\n",
    "- Different types such as int, char, float...\n",
    "\n",
    "- Also combinations, for instance in C:\n",
    "\n",
    "\n",
    "```C\n",
    "struct{int a, float b}\n",
    "```\n",
    "\n",
    "defines a set product $\\mathbb{Z}\\times\\mathbb{R}$. \n",
    "\n",
    "- Sometimes, the same argument can have one of two types, so you can use a union:\n",
    "\n",
    "```C\n",
    "union{int a, float b}\n",
    "```\n",
    "\n",
    "How is this different from the mathematical expression $\\mathbb{Z}\\cup\\mathbb{R}$?\n"
   ]
  },
  {
   "cell_type": "markdown",
   "metadata": {
    "slideshow": {
     "slide_type": "slide"
    }
   },
   "source": [
    "### Tagged unions\n",
    "\n",
    "Some language differentiate between different types by using an additional indicator (e.g. first few bits).\n",
    "\n",
    "We can also manually tag the elements:\n",
    "\n",
    "$\\mathbb{Z}\\times\\{1\\} \\cup \\mathbb{R}\\times \\{2\\}$\n",
    "\n",
    "How is this different from $\\mathbb{Z} \\cup \\mathbb{R}$?"
   ]
  },
  {
   "cell_type": "markdown",
   "metadata": {
    "slideshow": {
     "slide_type": "slide"
    }
   },
   "source": [
    "### Functions\n",
    "\n",
    "$f(x) = 4x - 5 $ is of type $\\mathbb{R} \\rightarrow \\mathbb{R} $\n",
    "\n",
    "$g(x,y) = x^2 + 4xy +0.5 y^2$ is of type $\\mathbb{R} \\times \\mathbb{R} \\rightarrow \\mathbb{R} $      \n",
    "\n",
    "Can operate on other sets as well. \n",
    "\n",
    "Functions are:\n",
    "- complete (defined for every value)\n",
    "- single valued (one output for each input)\n",
    "\n",
    "i.e. if $p\\in X\\rightarrow Y$ then for every $x\\in X$ there exist a unique $p(x) \\in Y$\n",
    "\n",
    "\n",
    "Alternate notation  for $X\\rightarrow Y$ is  $Y^X$"
   ]
  },
  {
   "cell_type": "markdown",
   "metadata": {
    "slideshow": {
     "slide_type": "slide"
    }
   },
   "source": [
    "#### Anonymous functions\n",
    "\n",
    "Some languages require all functions to have names and the types to be indicated:\n",
    "\n",
    "```C\n",
    "float p(float x) {return x**2;}\n",
    "```\n",
    "\n",
    "In others we can use lambda notation:\n",
    "\n",
    "$\\lambda$ arguments.expression\n",
    "\n",
    "e.g. $\\lambda x,y.x^2 + 4xy +0.5 y^2$ is of type $\\mathbb{R} \\times \\mathbb{R} \\rightarrow \\mathbb{R} $ \n"
   ]
  },
  {
   "cell_type": "code",
   "execution_count": 41,
   "metadata": {
    "collapsed": false
   },
   "outputs": [
    {
     "data": {
      "text/plain": [
       "6.5"
      ]
     },
     "execution_count": 41,
     "metadata": {},
     "output_type": "execute_result"
    }
   ],
   "source": [
    "p = lambda x,y: x**2 + 4*x*y + 0.5*y**2\n",
    "\n",
    "def p2(x,y):\n",
    "    return x**2 + 4*x*y + 0.5*y**2\n",
    "\n",
    "f = lambda x,y: p(x,y) + 1\n"
   ]
  },
  {
   "cell_type": "markdown",
   "metadata": {
    "slideshow": {
     "slide_type": "slide"
    }
   },
   "source": [
    "Write a python anonymous function to represent the predicate:\n",
    "\n",
    "$ (x^4 - x^2) \\ge -0.1 $"
   ]
  },
  {
   "cell_type": "code",
   "execution_count": 48,
   "metadata": {
    "collapsed": false
   },
   "outputs": [
    {
     "name": "stdout",
     "output_type": "stream",
     "text": [
      "False\n",
      "True\n"
     ]
    }
   ],
   "source": [
    "pred = lambda x: (x**4-x**2) >= -0.1\n",
    "\n",
    "print(pred(0.85))\n",
    "\n",
    "def pred2(x):\n",
    "    output = (x**4-x**2) >= -0.1\n",
    "    return output\n",
    "\n",
    "print(pred2(0.2))"
   ]
  },
  {
   "cell_type": "markdown",
   "metadata": {
    "slideshow": {
     "slide_type": "-"
    }
   },
   "source": [
    "Write a function **filter** that takes as set and a predicate and returns the elements of the set for which the predicate evaluates to **true**."
   ]
  },
  {
   "cell_type": "code",
   "execution_count": 46,
   "metadata": {
    "collapsed": true
   },
   "outputs": [],
   "source": [
    "def filter(predicate, set_s):\n",
    "    return {s for s in set_s if predicate(s)}\n"
   ]
  },
  {
   "cell_type": "markdown",
   "metadata": {
    "slideshow": {
     "slide_type": "-"
    }
   },
   "source": [
    "Test **filter** by applying it to the set {-1, -0.75, -0.5 ... 0.75, 1} and the predicate you defined above."
   ]
  },
  {
   "cell_type": "code",
   "execution_count": 51,
   "metadata": {
    "collapsed": false
   },
   "outputs": [
    {
     "name": "stdout",
     "output_type": "stream",
     "text": [
      "{-0.75, -0.5, 0.0, -0.25, 0.25, 0.5, 0.75, 1.0, -1.0}\n"
     ]
    },
    {
     "data": {
      "text/plain": [
       "{-1.0, -0.25, 0.0, 0.25, 1.0}"
      ]
     },
     "execution_count": 51,
     "metadata": {},
     "output_type": "execute_result"
    }
   ],
   "source": [
    "import numpy as np\n",
    "\n",
    "set_a = np.linspace(-1,1,9)\n",
    "set_a = set(set_a)\n",
    "print(set_a)\n",
    "\n",
    "\n",
    "filter(lambda x: (x**4-x**2) >= -0.1, set_a)\n"
   ]
  }
 ],
 "metadata": {
  "celltoolbar": "Slideshow",
  "kernelspec": {
   "display_name": "Python 3",
   "language": "python",
   "name": "python3"
  },
  "language_info": {
   "codemirror_mode": {
    "name": "ipython",
    "version": 3
   },
   "file_extension": ".py",
   "mimetype": "text/x-python",
   "name": "python",
   "nbconvert_exporter": "python",
   "pygments_lexer": "ipython3",
   "version": "3.5.2"
  }
 },
 "nbformat": 4,
 "nbformat_minor": 4
}
